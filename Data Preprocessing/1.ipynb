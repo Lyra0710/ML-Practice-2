{
 "cells": [
  {
   "cell_type": "markdown",
   "metadata": {},
   "source": [
    "Training set and test set\n",
    "Feature scaling is always applied TO columns and never ACROSS columns\n",
    "Normalization: output between 0 and 1\n",
    "Standardization: output between -3 and +3"
   ]
  },
  {
   "cell_type": "markdown",
   "metadata": {},
   "source": [
    "#### Importing Libraries"
   ]
  },
  {
   "cell_type": "code",
   "execution_count": 1,
   "metadata": {},
   "outputs": [],
   "source": [
    "import pandas as pd\n",
    "import numpy as np\n",
    "import matplotlib.pyplot as plt"
   ]
  },
  {
   "cell_type": "markdown",
   "metadata": {},
   "source": [
    "#### Importing the dataset\n",
    "#### Make a matrix of features and dependent variable vector"
   ]
  },
  {
   "cell_type": "code",
   "execution_count": 2,
   "metadata": {},
   "outputs": [],
   "source": [
    "df = pd.read_csv('laptopData.csv')"
   ]
  },
  {
   "cell_type": "code",
   "execution_count": 3,
   "metadata": {},
   "outputs": [
    {
     "name": "stdout",
     "output_type": "stream",
     "text": [
      "0       1.37\n",
      "1       1.34\n",
      "2       1.86\n",
      "3       1.83\n",
      "4       1.37\n",
      "        ... \n",
      "1298     1.8\n",
      "1299     1.3\n",
      "1300     1.5\n",
      "1301    2.19\n",
      "1302     2.2\n",
      "Name: Weight, Length: 1303, dtype: object\n"
     ]
    }
   ],
   "source": [
    "df['Weight'] = df['Weight'].str.replace('kg', '')\n",
    "#print contents of weight column\n",
    "print(df['Weight'])"
   ]
  },
  {
   "cell_type": "code",
   "execution_count": 4,
   "metadata": {},
   "outputs": [],
   "source": [
    "df = df[df['Inches'] != '?']\n",
    "df['Inches'] = df['Inches'].astype(float)\n",
    "\n",
    "df = df[df['Weight'] != '?']\n",
    "df['Weight'] = df['Weight'].astype(float)\n",
    "\n",
    "# convert columns 3, 10 and 11 of df to float\n",
    "df['Inches'] = df['Inches'].astype(float)\n",
    "df['Weight'] = df['Weight'].astype(float)\n",
    "df['Price'] = df['Price'].astype(float)"
   ]
  },
  {
   "cell_type": "code",
   "execution_count": 5,
   "metadata": {},
   "outputs": [],
   "source": [
    "x = df.iloc[:, :-1].values  # take all rows. All columns expect last one\n",
    "y = df.iloc[:, -1].values  # take all rows. Last column"
   ]
  },
  {
   "cell_type": "markdown",
   "metadata": {},
   "source": [
    "#### Taking care of missing data"
   ]
  },
  {
   "cell_type": "code",
   "execution_count": 6,
   "metadata": {},
   "outputs": [],
   "source": [
    "from sklearn.impute import SimpleImputer\n",
    "imputer = SimpleImputer(missing_values=np.nan, strategy='mean')\n",
    "imputer.fit(x[:, [3, 10]]) # fit to columns \n",
    "x[:,[3,10]] = imputer.transform(x[:, [3, 10]]) # transform columns "
   ]
  },
  {
   "cell_type": "markdown",
   "metadata": {},
   "source": [
    "#### Encoding"
   ]
  },
  {
   "cell_type": "markdown",
   "metadata": {},
   "source": [
    "#### Encoding categorical data - to converts strings to numbers. Divides into different columns based on the different classes in the column. For example, if in a column France, Germany and Spain are the only ones and are repeated, then there will be 3 columns. This involves creating a binary vector for each column."
   ]
  },
  {
   "cell_type": "code",
   "execution_count": 7,
   "metadata": {},
   "outputs": [],
   "source": [
    "from sklearn.compose import ColumnTransformer\n",
    "from sklearn.preprocessing import OneHotEncoder\n",
    "\n",
    "ct = ColumnTransformer(transformers=[('encoder', OneHotEncoder(), [1,2,4,5,6,7,8,9])], remainder ='passthrough')\n",
    "x = np.array(ct.fit_transform(x))"
   ]
  },
  {
   "cell_type": "code",
   "execution_count": 8,
   "metadata": {},
   "outputs": [
    {
     "name": "stdout",
     "output_type": "stream",
     "text": [
      "  (0, 1)\t1.0\n",
      "  (0, 24)\t1.0\n",
      "  (0, 50)\t1.0\n",
      "  (0, 133)\t1.0\n",
      "  (0, 196)\t1.0\n",
      "  (0, 202)\t1.0\n",
      "  (0, 297)\t1.0\n",
      "  (0, 358)\t1.0\n",
      "  (0, 361)\t13.3\n",
      "  (0, 362)\t1.37\n",
      "  (1, 1)\t1.0\n",
      "  (1, 24)\t1.0\n",
      "  (1, 28)\t1.0\n",
      "  (1, 131)\t1.0\n",
      "  (1, 196)\t1.0\n",
      "  (1, 200)\t1.0\n",
      "  (1, 290)\t1.0\n",
      "  (1, 358)\t1.0\n",
      "  (1, 360)\t1.0\n",
      "  (1, 361)\t13.3\n",
      "  (1, 362)\t1.34\n",
      "  (2, 7)\t1.0\n",
      "  (2, 23)\t1.0\n",
      "  (2, 35)\t1.0\n",
      "  (2, 142)\t1.0\n",
      "  :\t:\n",
      "  (1298, 360)\t1300.0\n",
      "  (1298, 361)\t14.0\n",
      "  (1298, 362)\t1.5\n",
      "  (1299, 7)\t1.0\n",
      "  (1299, 23)\t1.0\n",
      "  (1299, 27)\t1.0\n",
      "  (1299, 157)\t1.0\n",
      "  (1299, 195)\t1.0\n",
      "  (1299, 208)\t1.0\n",
      "  (1299, 260)\t1.0\n",
      "  (1299, 355)\t1.0\n",
      "  (1299, 360)\t1301.0\n",
      "  (1299, 361)\t15.6\n",
      "  (1299, 362)\t2.19\n",
      "  (1300, 2)\t1.0\n",
      "  (1300, 23)\t1.0\n",
      "  (1300, 27)\t1.0\n",
      "  (1300, 102)\t1.0\n",
      "  (1300, 193)\t1.0\n",
      "  (1300, 224)\t1.0\n",
      "  (1300, 279)\t1.0\n",
      "  (1300, 355)\t1.0\n",
      "  (1300, 360)\t1302.0\n",
      "  (1300, 361)\t15.6\n",
      "  (1300, 362)\t2.2\n"
     ]
    }
   ],
   "source": [
    "print(x)"
   ]
  },
  {
   "cell_type": "code",
   "execution_count": null,
   "metadata": {},
   "outputs": [],
   "source": []
  }
 ],
 "metadata": {
  "kernelspec": {
   "display_name": "Python 3",
   "language": "python",
   "name": "python3"
  },
  "language_info": {
   "codemirror_mode": {
    "name": "ipython",
    "version": 3
   },
   "file_extension": ".py",
   "mimetype": "text/x-python",
   "name": "python",
   "nbconvert_exporter": "python",
   "pygments_lexer": "ipython3",
   "version": "3.11.2"
  },
  "orig_nbformat": 4
 },
 "nbformat": 4,
 "nbformat_minor": 2
}
